{
 "cells": [
  {
   "cell_type": "markdown",
   "metadata": {},
   "source": [
    "# Qwen 2 VL API Test\n",
    "\n",
    "This notebook tests the Qwen 2 VL model through a hosted API endpoint that accepts images."
   ]
  },
  {
   "cell_type": "code",
   "execution_count": null,
   "metadata": {},
   "source": [
    "import requests\n",
    "import base64\n",
    "import json\n",
    "from pathlib import Path\n",
    "import matplotlib.pyplot as plt\n",
    "import io\n",
    "from PIL import Image"
   ]
  },
  {
   "cell_type": "code",
   "execution_count": null,
   "metadata": {},
   "source": [
    "# API endpoint for Qwen 2 VL\n",
    "API_URL = 'https://your-endpoint-url/v1/chat/completions'  # Replace with your actual endpoint"
   ]
  },
  {
   "cell_type": "code",
   "execution_count": null,
   "metadata": {},
   "source": [
    "def encode_image(image_path):\n",
    "    with open(image_path, 'rb') as image_file:\n",
    "        return base64.b64encode(image_file.read()).decode('utf-8')"
   ]
  },
  {
   "cell_type": "code",
   "execution_count": null,
   "metadata": {},
   "source": [
    "# You'll need to add an image to test with\n",
    "# For example, save an image to 'llm_vision/data/images/test_image.jpg'\n",
    "# IMAGE_PATH = 'llm_vision/data/images/test_image.jpg'\n",
    "\n",
    "# Uncomment to test with a demo image:\n",
    "# from urllib.request import urlretrieve\n",
    "# demo_url = 'https://raw.githubusercontent.com/facebookresearch/segment-anything/main/notebooks/images/truck.jpg'\n",
    "# IMAGE_PATH = 'llm_vision/data/images/demo_image.jpg'\n",
    "# urlretrieve(demo_url, IMAGE_PATH)"
   ]
  },
  {
   "cell_type": "code",
   "execution_count": null,
   "metadata": {},
   "source": [
    "def query_model(image_path, prompt):\n",
    "    # Encode the image\n",
    "    base64_image = encode_image(image_path)\n",
    "    \n",
    "    # Prepare headers (adjust if authentication is required)\n",
    "    headers = {\n",
    "        'Content-Type': 'application/json',\n",
    "        # 'Authorization': 'Bearer YOUR_API_KEY',  # Uncomment if needed\n",
    "    }\n",
    "    \n",
    "    # Prepare payload according to chat completions API format with image\n",
    "    payload = {\n",
    "        'model': 'qwen-2-vl',  # Adjust model name if needed\n",
    "        'messages': [\n",
    "            {\n",
    "                'role': 'user',\n",
    "                'content': [\n",
    "                    {\n",
    "                        'type': 'text',\n",
    "                        'text': prompt\n",
    "                    },\n",
    "                    {\n",
    "                        'type': 'image_url',\n",
    "                        'image_url': {\n",
    "                            'url': f'data:image/jpeg;base64,{base64_image}'\n",
    "                        }\n",
    "                    }\n",
    "                ]\n",
    "            }\n",
    "        ],\n",
    "        'max_tokens': 1000\n",
    "    }\n",
    "    \n",
    "    # Send request\n",
    "    try:\n",
    "        response = requests.post(API_URL, headers=headers, json=payload)\n",
    "        response.raise_for_status()  # Raise exception for HTTP errors\n",
    "        return response.json()\n",
    "    except requests.exceptions.RequestException as e:\n",
    "        return {'error': str(e)}"
   ]
  },
  {
   "cell_type": "code",
   "execution_count": null,
   "metadata": {},
   "source": [
    "# Example usage - adjust image path and prompt\n",
    "# Uncomment and run once you have an image\n",
    "\n",
    "# IMAGE_PATH = 'llm_vision/data/images/your_image.jpg'\n",
    "# result = query_model(IMAGE_PATH, 'What do you see in this image?')\n",
    "# print(json.dumps(result, indent=2))"
   ]
  },
  {
   "cell_type": "code",
   "execution_count": null,
   "metadata": {},
   "source": [
    "# Helper function to display image and model response\n",
    "def analyze_image(image_path, prompt):\n",
    "    # Display the image\n",
    "    img = Image.open(image_path)\n",
    "    plt.figure(figsize=(10, 8))\n",
    "    plt.imshow(img)\n",
    "    plt.axis('off')\n",
    "    plt.title('Input Image')\n",
    "    plt.show()\n",
    "    \n",
    "    # Query the model\n",
    "    print(f'Prompt: {prompt}')\n",
    "    result = query_model(image_path, prompt)\n",
    "    \n",
    "    # Extract and display the response\n",
    "    if 'error' in result:\n",
    "        print(f'Error: {result["error"]}')\n",
    "    else:\n",
    "        try:\n",
    "            response_text = result['choices'][0]['message']['content']\n",
    "            print('\nModel Response:\n')\n",
    "            print(response_text)\n",
    "        except KeyError as e:\n",
    "            print(f'Unexpected response format: {e}')\n",
    "            print('Raw response:', json.dumps(result, indent=2))\n",
    "    \n",
    "    return result"
   ]
  },
  {
   "cell_type": "code",
   "execution_count": null,
   "metadata": {},
   "source": [
    "# Uncomment to test the full workflow with a sample image\n",
    "# IMAGE_PATH = 'llm_vision/data/images/your_image.jpg'\n",
    "# result = analyze_image(IMAGE_PATH, 'Describe this image in detail.')"
   ]
  }
 ],
 "metadata": {
  "kernelspec": {
   "display_name": "Python 3",
   "language": "python",
   "name": "python3"
  },
  "language_info": {
   "codemirror_mode": {
    "name": "ipython",
    "version": 3
   },
   "file_extension": ".py",
   "mimetype": "text/x-python",
   "name": "python",
   "nbconvert_exporter": "python",
   "pygments_lexer": "ipython3",
   "version": "3.8.10"
  }
 },
 "nbformat": 4,
 "nbformat_minor": 4
}